{
 "cells": [
  {
   "cell_type": "code",
   "execution_count": 1,
   "id": "dd88f042-46c5-48e0-a7f6-71448d94aa7a",
   "metadata": {
    "tags": []
   },
   "outputs": [
    {
     "name": "stderr",
     "output_type": "stream",
     "text": [
      "/opt/conda/lib/python3.7/site-packages/tqdm/auto.py:22: TqdmWarning: IProgress not found. Please update jupyter and ipywidgets. See https://ipywidgets.readthedocs.io/en/stable/user_install.html\n",
      "  from .autonotebook import tqdm as notebook_tqdm\n"
     ]
    }
   ],
   "source": [
    "import torch\n",
    "from transformers import LlamaTokenizer, LlamaForCausalLM"
   ]
  },
  {
   "cell_type": "code",
   "execution_count": 2,
   "id": "5f52d908-e31f-492e-832a-5b53549edf4d",
   "metadata": {
    "tags": []
   },
   "outputs": [
    {
     "data": {
      "text/plain": [
       "True"
      ]
     },
     "execution_count": 2,
     "metadata": {},
     "output_type": "execute_result"
    }
   ],
   "source": [
    "torch.cuda.is_available()"
   ]
  },
  {
   "cell_type": "code",
   "execution_count": 3,
   "id": "1e288ec3-6615-4bce-aa58-15807e54cb94",
   "metadata": {
    "tags": []
   },
   "outputs": [],
   "source": [
    "# Use this if downloading model at runtime\n",
    "# model_path = 'openlm-research/open_llama_3b'\n",
    "# model_path = 'openlm-research/open_llama_7b'\n",
    "\n",
    "# Use this if load model offline\n",
    "# Need to download and place the model to the path\n",
    "model_path = '/models/models--openlm-research--open_llama_3b/snapshots/8fcddba529aef0eda7293cc9a4171a3994648d2e'\n",
    "# model_path = '/models/models--openlm-research--open_llama_7b/snapshots/fbf8f0ff929f7abc0b98dcb003e3a73069f8207e'"
   ]
  },
  {
   "cell_type": "code",
   "execution_count": 4,
   "id": "9a983c44-a112-42d3-8c01-115d358194e6",
   "metadata": {
    "tags": []
   },
   "outputs": [
    {
     "name": "stderr",
     "output_type": "stream",
     "text": [
      "The model weights are not tied. Please use the `tie_weights` method before using the `infer_auto_device` function.\n"
     ]
    }
   ],
   "source": [
    "tokenizer = LlamaTokenizer.from_pretrained(model_path)\n",
    "model = LlamaForCausalLM.from_pretrained(\n",
    "    model_path, torch_dtype=torch.float16, device_map='auto',\n",
    ")"
   ]
  },
  {
   "cell_type": "code",
   "execution_count": 14,
   "id": "97dbd3cd-632c-4e4d-a444-07f76e95f19d",
   "metadata": {
    "tags": []
   },
   "outputs": [
    {
     "name": "stdout",
     "output_type": "stream",
     "text": [
      "<s>1 + 2 = 3\n",
      "34 + 85 = 119\n",
      "64 + 29 = 93\n",
      "100 + 100 = 200\n",
      "100 + 1000 = 10000\n",
      "1000 + 10000 = 110000\n",
      "10000 + 100000 = 1100000\n",
      "100000 + 1000000 = 11000000\n",
      "1000000 + 10000000 = 110000000\n",
      "10000000 + 100000000 = 1100000000\n",
      "100000000 + 1000000000 = 11000000000\n",
      "1000000000 + 10000000000 = 110000000000\n",
      "10000000000 + 100000000000 = 1100000000000\n",
      "100000000000 + 1000000\n"
     ]
    }
   ],
   "source": [
    "prompt = 'Q: What is the largest animal?\\nA:'\n",
    "prompt = \"\"\"Q: 世界最大の哺乳類はなんですか？\n",
    "A: シロナガスクジラ\n",
    "Q: 最も人間と遺伝子が近い動物はなんですか？\n",
    "A: チンパンジー\n",
    "Q: 世界最小の哺乳類はなんですか？\n",
    "A:\"\"\"  # NG\n",
    "\n",
    "prompt = \"\"\"Q: What is the largest animal?\n",
    "A: Blue whale\n",
    "Q: What is the animal most genetically similar to human?\n",
    "A: chimpanzee\n",
    "Q: What is the smamllest mammal?\n",
    "A:\"\"\"  # NG\n",
    "\n",
    "prompt = '1 1 2 3 5 8 13 21 34 55 89'  #NG\n",
    "\n",
    "prompt = '2 4 6 8 10 12 14'  # OK\n",
    "prompt = '2 4 8 16 32 64'  # OK\n",
    "prompt = '1 2 4 7 11 16 22 29 37'  # NG\n",
    "\n",
    "prompt = \"\"\"1 + 2 = 3\n",
    "34 + 85 = 119\n",
    "64 + 29 =\"\"\"  # この計算結果はOK、でもそれ以降の生成結果は間違い。\n",
    "\n",
    "input_ids = tokenizer(prompt, return_tensors=\"pt\").input_ids\n",
    "# print('input ids:': input_ids)\n",
    "\n",
    "# Max number of generated tokens\n",
    "max_new_tokens=300\n",
    "\n",
    "generation_output = model.generate(\n",
    "    input_ids=input_ids, max_new_tokens=max_new_tokens\n",
    ")\n",
    "print(tokenizer.decode(generation_output[0]))"
   ]
  },
  {
   "cell_type": "code",
   "execution_count": null,
   "id": "c0d150eb-2052-427f-a3c4-65a4f8039551",
   "metadata": {},
   "outputs": [],
   "source": []
  }
 ],
 "metadata": {
  "kernelspec": {
   "display_name": "Python 3 (ipykernel)",
   "language": "python",
   "name": "python3"
  },
  "language_info": {
   "codemirror_mode": {
    "name": "ipython",
    "version": 3
   },
   "file_extension": ".py",
   "mimetype": "text/x-python",
   "name": "python",
   "nbconvert_exporter": "python",
   "pygments_lexer": "ipython3",
   "version": "3.7.13"
  }
 },
 "nbformat": 4,
 "nbformat_minor": 5
}
